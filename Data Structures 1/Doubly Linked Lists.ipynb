{
 "cells": [
  {
   "cell_type": "code",
   "execution_count": 25,
   "metadata": {},
   "outputs": [],
   "source": [
    "class Node:\n",
    "    def __init__(self, d, n = None, p=None):\n",
    "        self.data = d\n",
    "        self.next_node = n\n",
    "        self.prev_node = p\n",
    "    \n",
    "    def __str__ (self):\n",
    "        return('(' + str(self.data) + ')')"
   ]
  },
  {
   "cell_type": "code",
   "execution_count": 29,
   "metadata": {},
   "outputs": [],
   "source": [
    "class Doubly_L_L:\n",
    "\n",
    "    def __init__(self, r = None):\n",
    "        self.root = r\n",
    "        self.last = r\n",
    "        self.size = 0\n",
    "        \n",
    "    def add(self, d):\n",
    "        if self.size ==0:\n",
    "            self.root = Node(d)\n",
    "            self.last = self.root \n",
    "        else:\n",
    "            new_node = Node(d, self.root)\n",
    "            self.root.prev_node = new_node\n",
    "            self.root = new_node\n",
    "        self.size += 1\n",
    "            \n",
    "    def find(self, d):\n",
    "        this_node = self.root\n",
    "        while this_node is not None:\n",
    "            if tihs_node.data == d:\n",
    "                return d\n",
    "            elif this_node.next_node == None:\n",
    "                return False\n",
    "            else:\n",
    "                this_node = this_node.next_node\n",
    "                \n",
    "    def remove(self, d):\n",
    "        this_node = self.root\n",
    "        while this_node is not None:\n",
    "            if this_node.data == d:\n",
    "                if this_node.prev_node is not None:\n",
    "                    if this_node.next_node is not None: #delete random node\n",
    "                        this_node.prev_node.next_node = this_node.next_node\n",
    "                        this_node.next_node.prev_node = this_node.prev_node\n",
    "                    else: #delete last node\n",
    "                        this_node.prev_node.next_node = None\n",
    "                        self.last = this_node.prev_node\n",
    "                else: #delete root node\n",
    "                    self.root = this_node.next_node\n",
    "                    this_node.next_node.prev_node = self.root\n",
    "                self.size -= 1\n",
    "                return True\n",
    "            else:\n",
    "                 this_node = this_node.next_node\n",
    "        return Flase #data not found\n",
    "                \n",
    "    def print(self):\n",
    "        if self.root is None:\n",
    "            return\n",
    "        this_node = self.root\n",
    "        print(this_node, end='<->')\n",
    "        while this_node.next_node is not None:\n",
    "            this_node = this_node.next_node\n",
    "            print(this_node, end='<->')\n",
    "        print()\n",
    "                        \n",
    "                        \n",
    "                        \n",
    "                        \n",
    "                        \n",
    "                        \n",
    "            "
   ]
  },
  {
   "cell_type": "code",
   "execution_count": 31,
   "metadata": {},
   "outputs": [
    {
     "name": "stdout",
     "output_type": "stream",
     "text": [
      "size=7\n",
      "(80)<->(70)<->(60)<->(70)<->(20)<->(40)<->(10)<->\n",
      "size=6\n"
     ]
    }
   ],
   "source": [
    "dll = Doubly_L_L()\n",
    "for i in [10, 40, 20, 70, 60, 70, 80]:\n",
    "    dll.add(i)   \n",
    "    \n",
    "print(\"size=\"+str(dll.size))\n",
    "dll.print()\n",
    "dll.remove(60)\n",
    "print(\"size=\"+str(dll.size))"
   ]
  },
  {
   "cell_type": "code",
   "execution_count": null,
   "metadata": {},
   "outputs": [],
   "source": []
  }
 ],
 "metadata": {
  "kernelspec": {
   "display_name": "Python 3",
   "language": "python",
   "name": "python3"
  },
  "language_info": {
   "codemirror_mode": {
    "name": "ipython",
    "version": 3
   },
   "file_extension": ".py",
   "mimetype": "text/x-python",
   "name": "python",
   "nbconvert_exporter": "python",
   "pygments_lexer": "ipython3",
   "version": "3.5.6"
  }
 },
 "nbformat": 4,
 "nbformat_minor": 2
}
