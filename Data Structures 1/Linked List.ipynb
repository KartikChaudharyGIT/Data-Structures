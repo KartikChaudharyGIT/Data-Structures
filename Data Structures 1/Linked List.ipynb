{
 "cells": [
  {
   "cell_type": "code",
   "execution_count": 1,
   "metadata": {},
   "outputs": [],
   "source": [
    "class node:\n",
    "    def __init__(self, d, n = None, p=None):\n",
    "        self.data = d\n",
    "        self.next_node = n\n",
    "        self.prev_node = p\n",
    "    \n",
    "    def __str__ (self):\n",
    "        return('(' + str(self.data) + ')')"
   ]
  },
  {
   "cell_type": "code",
   "execution_count": 2,
   "metadata": {},
   "outputs": [],
   "source": [
    "class LinkedList:\n",
    "    \n",
    "    def __init__(self, r = None):\n",
    "        self.root = r\n",
    "        self.size = 0\n",
    "        \n",
    "    def add(self, d):\n",
    "        new_node = node(d, self.root)\n",
    "        self.root = new_node\n",
    "        self.size += 1\n",
    "        \n",
    "    def find(self, d):\n",
    "        this_node = self.root\n",
    "        while this_node is not None:\n",
    "            if this_node.data == d:\n",
    "                return d\n",
    "            else:\n",
    "                this_node = this_node.next_node\n",
    "        return None\n",
    "    \n",
    "    def remove(self, d):\n",
    "        this_node = self.root\n",
    "        prev_node = None\n",
    "        \n",
    "        while this_node is not None:  \n",
    "            if this_node.data == d:\n",
    "                if prev_node is not None:\n",
    "                    prev_node.next_node = this_node.next_node\n",
    "                else:\n",
    "                    self.root = this_node.next_node\n",
    "                self.size -=1\n",
    "                return True\n",
    "            else:\n",
    "                prev_node = this_node\n",
    "                this_node = this_node.next_node\n",
    "        return False\n",
    "                    \n",
    "    def print_list(self):\n",
    "        this_node = self.root\n",
    "        while this_node is not None:\n",
    "            print(this_node, end='->')\n",
    "            this_node = this_node.next_node\n",
    "        print('None')\n",
    "        \n"
   ]
  },
  {
   "cell_type": "code",
   "execution_count": 3,
   "metadata": {},
   "outputs": [
    {
     "name": "stdout",
     "output_type": "stream",
     "text": [
      "(30)->(25)->(20)->(15)->(10)->(5)->None\n",
      "size=6\n",
      "(30)->(20)->(10)->None\n"
     ]
    }
   ],
   "source": [
    "mylist = LinkedList()\n",
    "mylist.add(5)\n",
    "mylist.add(10)\n",
    "mylist.add(15)\n",
    "mylist.add(20)\n",
    "mylist.add(25)\n",
    "mylist.add(30)\n",
    "mylist.print_list()\n",
    "print(\"size=\"+str(mylist.size))\n",
    "mylist.remove(5)\n",
    "mylist.remove(15)\n",
    "mylist.remove(25)\n",
    "mylist.print_list()\n"
   ]
  },
  {
   "cell_type": "code",
   "execution_count": null,
   "metadata": {},
   "outputs": [],
   "source": []
  }
 ],
 "metadata": {
  "kernelspec": {
   "display_name": "Python 3",
   "language": "python",
   "name": "python3"
  },
  "language_info": {
   "codemirror_mode": {
    "name": "ipython",
    "version": 3
   },
   "file_extension": ".py",
   "mimetype": "text/x-python",
   "name": "python",
   "nbconvert_exporter": "python",
   "pygments_lexer": "ipython3",
   "version": "3.5.6"
  }
 },
 "nbformat": 4,
 "nbformat_minor": 2
}
