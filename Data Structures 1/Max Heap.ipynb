{
 "cells": [
  {
   "cell_type": "code",
   "execution_count": 12,
   "metadata": {},
   "outputs": [],
   "source": [
    " class MaxHeap:\n",
    "        def __init__(self, items=[]):\n",
    "            super().__init__()\n",
    "            self.heap = [0]\n",
    "            for item in items:\n",
    "                self.heap.append(item)\n",
    "                self.__floatUp(len(self.heap)-1)\n",
    "            \n",
    "        def push(self, data):\n",
    "            self.heap.append(data)\n",
    "            self.__floatUp(len(self.heap)-1)\n",
    "            \n",
    "        def peek(self):\n",
    "            if self.heap[1]:\n",
    "                return self.heap[1]\n",
    "            else:\n",
    "                return False\n",
    "         \n",
    "        def pop(self):\n",
    "            if len(self.heap) > 2:\n",
    "                self.__swap(1, len(self.heap)-1)\n",
    "                max =  self.heap.pop()\n",
    "                self.__bubbleDown(1)\n",
    "            elif len(self.heap) == 2:\n",
    "                max = self.heap.pop()\n",
    "            else:\n",
    "                max = False\n",
    "            return max\n",
    "        \n",
    "        def __swap(self, i ,j):\n",
    "            self.heap[i], self.heap[j] = self.heap[j], self.heap[i]\n",
    "        \n",
    "        def __floatUp(self, index):\n",
    "            parent = index//2\n",
    "            if index <=1:\n",
    "                return\n",
    "            elif self.heap[index] > self.heap[parent]:\n",
    "                self.__swap(index, parent)\n",
    "                self.__floatUp(parent)\n",
    "                \n",
    "        def __bubbleDown(self, index):\n",
    "            left = index * 2\n",
    "            right = index * 2+1\n",
    "            largest = index\n",
    "            if len(self.heap) > left and self.heap[largest] < self.heap[left]:\n",
    "                largest = left\n",
    "            if len(self.heap) > right and self.heap[largest] < self.heap[right]:\n",
    "                largest =  right\n",
    "            if largest != index:\n",
    "                self.__swap(index, largest)\n",
    "                self.__bubbleDown(largest)\n",
    "                \n",
    "        def __str__(self):\n",
    "            return str(self.heap)"
   ]
  },
  {
   "cell_type": "code",
   "execution_count": 13,
   "metadata": {},
   "outputs": [
    {
     "name": "stdout",
     "output_type": "stream",
     "text": [
      "[0, 90, 69, 39, 15, 59, 10]\n",
      "90\n",
      "69\n"
     ]
    }
   ],
   "source": [
    "m = MaxHeap([69, 59, 39, 15, 90])\n",
    "m.push(10)\n",
    "print(m)\n",
    "print(m.pop())\n",
    "print(m.peek())"
   ]
  },
  {
   "cell_type": "code",
   "execution_count": null,
   "metadata": {},
   "outputs": [],
   "source": []
  }
 ],
 "metadata": {
  "kernelspec": {
   "display_name": "Python 3",
   "language": "python",
   "name": "python3"
  },
  "language_info": {
   "codemirror_mode": {
    "name": "ipython",
    "version": 3
   },
   "file_extension": ".py",
   "mimetype": "text/x-python",
   "name": "python",
   "nbconvert_exporter": "python",
   "pygments_lexer": "ipython3",
   "version": "3.5.6"
  }
 },
 "nbformat": 4,
 "nbformat_minor": 2
}
