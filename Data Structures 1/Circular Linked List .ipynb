{
 "cells": [
  {
   "cell_type": "code",
   "execution_count": 4,
   "metadata": {},
   "outputs": [],
   "source": [
    "class node:\n",
    "    def __init__(self, d, n = None, p=None):\n",
    "        self.data = d\n",
    "        self.next_node = n\n",
    "        self.prev_node = p\n",
    "    \n",
    "    def __str__ (self):\n",
    "        return('(' + str(self.data) + ')')"
   ]
  },
  {
   "cell_type": "code",
   "execution_count": 14,
   "metadata": {},
   "outputs": [],
   "source": [
    "class Circular_L_L:\n",
    "\n",
    "    def __init__(self, r = None):\n",
    "        self.root = r\n",
    "        self.size = 0\n",
    "        \n",
    "    def add(self, d):\n",
    "        if self.size == 0:\n",
    "            self.root = node(d)\n",
    "            self.root.next_node = self.root\n",
    "        else:\n",
    "            new_node = node(d, self.root.next_node)\n",
    "            self.root.next_node = new_node\n",
    "        self.size += 1    \n",
    "            \n",
    "    def find(self, d):\n",
    "        this_node = self.root\n",
    "        while True:\n",
    "            if this_node.data == d:\n",
    "                return d\n",
    "            elif this_node.next_node == self.root:\n",
    "                return False\n",
    "            this_node = this_node.next_node\n",
    "            \n",
    "    def remove(self, d):\n",
    "        this_node = self.root\n",
    "        prev_node = None\n",
    "        \n",
    "        while True:\n",
    "            if this_node == d:\n",
    "                if prev_node.next_node is not None:\n",
    "                    prev_node.next_node = this_node.next_node\n",
    "                else:\n",
    "                    while this_node.next_node != self.root:\n",
    "                        this_node = this_node.next_node\n",
    "                    this_node.next_node = self.root.next_node\n",
    "                    self.root = self.root.next_node\n",
    "                self.size -=1      \n",
    "                return True\n",
    "            elif this_node.next_node == self.root:\n",
    "                return False\n",
    "            prev_node = this_node\n",
    "            this_node = this_node.next_node\n",
    "                    \n",
    "    def print_list(self):\n",
    "        if self.root is None:\n",
    "            return\n",
    "        this_node = self.root\n",
    "        print(this_node, end='->')\n",
    "        while this_node.next_node != self.root:\n",
    "            this_node = this_node.next_node\n",
    "            print(this_node, end='->')\n",
    "        print()\n",
    "        "
   ]
  },
  {
   "cell_type": "code",
   "execution_count": 15,
   "metadata": {},
   "outputs": [
    {
     "name": "stdout",
     "output_type": "stream",
     "text": [
      "size=6\n",
      "4\n",
      "8\n",
      "(2)->(9)->(8)->(7)->(5)->(4)->(2)->(9)->(8)->\n"
     ]
    }
   ],
   "source": [
    "cll = Circular_L_L()\n",
    "for i in [2 ,4 ,5 ,7 , 8, 9]:\n",
    "    cll.add(i)\n",
    "    \n",
    "print(\"size=\"+str(cll.size))\n",
    "print(cll.find(4))\n",
    "print(cll.find(8))\n",
    "\n",
    "my_node = cll.root\n",
    "print(my_node, end='->')\n",
    "for i in range(8):\n",
    "    my_node = my_node.next_node\n",
    "    print(my_node, end='->')\n",
    "print()"
   ]
  },
  {
   "cell_type": "code",
   "execution_count": null,
   "metadata": {},
   "outputs": [],
   "source": []
  }
 ],
 "metadata": {
  "kernelspec": {
   "display_name": "Python 3",
   "language": "python",
   "name": "python3"
  },
  "language_info": {
   "codemirror_mode": {
    "name": "ipython",
    "version": 3
   },
   "file_extension": ".py",
   "mimetype": "text/x-python",
   "name": "python",
   "nbconvert_exporter": "python",
   "pygments_lexer": "ipython3",
   "version": "3.5.6"
  }
 },
 "nbformat": 4,
 "nbformat_minor": 2
}
